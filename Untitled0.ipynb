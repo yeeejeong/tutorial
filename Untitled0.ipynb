{
  "nbformat": 4,
  "nbformat_minor": 0,
  "metadata": {
    "colab": {
      "name": "Untitled0.ipynb",
      "provenance": [],
      "authorship_tag": "ABX9TyOyudcnbfhm7dfMui/2uC8V",
      "include_colab_link": true
    },
    "kernelspec": {
      "name": "python3",
      "display_name": "Python 3"
    },
    "language_info": {
      "name": "python"
    }
  },
  "cells": [
    {
      "cell_type": "markdown",
      "metadata": {
        "id": "view-in-github",
        "colab_type": "text"
      },
      "source": [
        "<a href=\"https://colab.research.google.com/github/yeeejeong/tutorial/blob/main/Untitled0.ipynb\" target=\"_parent\"><img src=\"https://colab.research.google.com/assets/colab-badge.svg\" alt=\"Open In Colab\"/></a>"
      ]
    },
    {
      "cell_type": "code",
      "metadata": {
        "id": "v8KF9r7WHnX5"
      },
      "source": [
        "import numpy as np #긴 numpy를 np로 줄여서 사용하겠다.\n",
        "import torch\n",
        "import math "
      ],
      "execution_count": 2,
      "outputs": []
    },
    {
      "cell_type": "code",
      "metadata": {
        "colab": {
          "base_uri": "https://localhost:8080/"
        },
        "id": "3ADqlC4jLENp",
        "outputId": "39dc2ab7-47c4-487a-f47e-8c9bd8fe866a"
      },
      "source": [
        "print(np.random.randn(5,3)) #난수 생성하였다. 5행 3열 배열을 말이다.\n"
      ],
      "execution_count": 3,
      "outputs": [
        {
          "output_type": "stream",
          "text": [
            "[[ 0.37099922  0.74253212 -2.17677854]\n",
            " [ 0.0296855   0.96210783 -0.47711283]\n",
            " [ 0.64920576  1.70436098 -1.68013791]\n",
            " [ 2.17061794  1.33131742  0.55081703]\n",
            " [-0.33165405 -0.56605526  0.60163987]]\n"
          ],
          "name": "stdout"
        }
      ]
    },
    {
      "cell_type": "code",
      "metadata": {
        "colab": {
          "base_uri": "https://localhost:8080/"
        },
        "id": "UeOoV_FJLepQ",
        "outputId": "f36e8ec1-6d26-4797-97f8-11f61b94470c"
      },
      "source": [
        "print(torch.randn(5,4)) #tensor로 선언 할 수있다. 위에는 numpy로 선언한 것이다."
      ],
      "execution_count": 4,
      "outputs": [
        {
          "output_type": "stream",
          "text": [
            "tensor([[-1.0708,  0.8521,  1.1806,  0.5608],\n",
            "        [ 1.7013, -0.6404, -0.2128, -1.8073],\n",
            "        [-1.9964,  0.3411,  1.4801,  0.6880],\n",
            "        [ 0.8165,  1.1021,  0.6749, -0.2592],\n",
            "        [ 0.1626, -1.0602,  0.5754,  1.0080]])\n"
          ],
          "name": "stdout"
        }
      ]
    },
    {
      "cell_type": "code",
      "metadata": {
        "colab": {
          "base_uri": "https://localhost:8080/"
        },
        "id": "4VGZfMqWLpl8",
        "outputId": "646895bd-c46a-48bc-96eb-1d6d2786706e"
      },
      "source": [
        "print(math.sqrt(2)) #math 라이브러 안의 함수를 사용하므로 도트(.)로 접근한다."
      ],
      "execution_count": 5,
      "outputs": [
        {
          "output_type": "stream",
          "text": [
            "1.4142135623730951\n"
          ],
          "name": "stdout"
        }
      ]
    },
    {
      "cell_type": "code",
      "metadata": {
        "colab": {
          "base_uri": "https://localhost:8080/"
        },
        "id": "ye0cZifOLxue",
        "outputId": "340bf933-aebf-4a49-a70b-0ad9f7edbd3a"
      },
      "source": [
        "num = 3 #자료형을 선언하지 않고 값을 할당 하여도 괜찮다.\n",
        "print(num) \n",
        "print(type(num))\n",
        "\n",
        "num2 = 2\n",
        "print(num2)\n",
        "print(type(num2))"
      ],
      "execution_count": 9,
      "outputs": [
        {
          "output_type": "stream",
          "text": [
            "3\n",
            "<class 'int'>\n",
            "2\n",
            "<class 'int'>\n"
          ],
          "name": "stdout"
        }
      ]
    },
    {
      "cell_type": "code",
      "metadata": {
        "colab": {
          "base_uri": "https://localhost:8080/"
        },
        "id": "Cph93SMKNxjD",
        "outputId": "55b9f3ed-7168-4f26-b752-d77580f97ec7"
      },
      "source": [
        "string1 = 'Hello world' # 문자열을 사용 할때 작은 따옴표를 사용하든 큰 따옴표를 사용하든 상관 없다.\n",
        "print(string1)\n",
        "\n",
        "string5 = \"\"\"hello \\nworld5\"\"\" \n",
        "print(string5)"
      ],
      "execution_count": 13,
      "outputs": [
        {
          "output_type": "stream",
          "text": [
            "Hello world\n",
            "hello \n",
            " world5\n"
          ],
          "name": "stdout"
        }
      ]
    },
    {
      "cell_type": "code",
      "metadata": {
        "colab": {
          "base_uri": "https://localhost:8080/"
        },
        "id": "jh5FRWRyOfW3",
        "outputId": "b6145251-45ab-47e4-f992-fba005df94c7"
      },
      "source": [
        "a = [1,2,3,['a','b']]#대괄호로 되어 있는 것은 List 자료형이다. 리스트는 편집 가능, 튜플은 편집 불가능.\n",
        "print( a[3][1] ) # print로 묶어주면 작은 따옴표가 사라져서 a 나온다 큰 따옴표로 묶으면 'a'가 나온다."
      ],
      "execution_count": 23,
      "outputs": [
        {
          "output_type": "stream",
          "text": [
            "b\n"
          ],
          "name": "stdout"
        }
      ]
    },
    {
      "cell_type": "code",
      "metadata": {
        "colab": {
          "base_uri": "https://localhost:8080/"
        },
        "id": "A_NUWJfbP4ld",
        "outputId": "1384e862-17a1-4f07-bd2c-d5ade7e8ee61"
      },
      "source": [
        "a = [1,2,3,4,5,6,7] #배열상 2번째부터 배열상 5 번째 이전까지 출력한다,.\n",
        "print(a[2:5])"
      ],
      "execution_count": 24,
      "outputs": [
        {
          "output_type": "stream",
          "text": [
            "[3, 4, 5]\n"
          ],
          "name": "stdout"
        }
      ]
    },
    {
      "cell_type": "code",
      "metadata": {
        "colab": {
          "base_uri": "https://localhost:8080/"
        },
        "id": "7SIPo7UvQb-4",
        "outputId": "a706a139-0396-490f-c118-ed413eba2ffc"
      },
      "source": [
        "a = [1,2,3,4,5,6,7] \n",
        "int(a[-5]) # ???????????"
      ],
      "execution_count": 26,
      "outputs": [
        {
          "output_type": "execute_result",
          "data": {
            "text/plain": [
              "3"
            ]
          },
          "metadata": {
            "tags": []
          },
          "execution_count": 26
        }
      ]
    },
    {
      "cell_type": "code",
      "metadata": {
        "colab": {
          "base_uri": "https://localhost:8080/"
        },
        "id": "0yCjnUjZPvPt",
        "outputId": "53097301-118a-43dd-ab26-6d52ee9707f4"
      },
      "source": [
        "a = [1,2,3]\n",
        "b = ['4', '5', '6']\n",
        "print(a+b) # 리스트를 이어 붙인다.\n",
        "print(a*3) # 리스트를 세 번 반복 한다.\n",
        "print(len(a+b))\n",
        "print(len(a*3))"
      ],
      "execution_count": 29,
      "outputs": [
        {
          "output_type": "stream",
          "text": [
            "[1, 2, 3, '4', '5', '6']\n",
            "[1, 2, 3, 1, 2, 3, 1, 2, 3]\n",
            "6\n",
            "9\n"
          ],
          "name": "stdout"
        }
      ]
    },
    {
      "cell_type": "code",
      "metadata": {
        "colab": {
          "base_uri": "https://localhost:8080/"
        },
        "id": "YXINHEGvQ8O4",
        "outputId": "ae0d82a1-57c7-4cc8-9e7c-72a04ca9c6f6"
      },
      "source": [
        "a = [1,2,3]\n",
        "a[1] = 7\n",
        "print(a)\n",
        "del a[1]\n",
        "print(a)"
      ],
      "execution_count": 35,
      "outputs": [
        {
          "output_type": "stream",
          "text": [
            "[1, 7, 3]\n",
            "[1, 3]\n"
          ],
          "name": "stdout"
        }
      ]
    },
    {
      "cell_type": "code",
      "metadata": {
        "colab": {
          "base_uri": "https://localhost:8080/"
        },
        "id": "QkvF_OXrRLfF",
        "outputId": "80e59298-5b6b-4f53-884f-7d7c02f712af"
      },
      "source": [
        "a = []\n",
        "a.append([1])\n",
        "print(a)\n"
      ],
      "execution_count": 36,
      "outputs": [
        {
          "output_type": "stream",
          "text": [
            "[[1]]\n"
          ],
          "name": "stdout"
        }
      ]
    },
    {
      "cell_type": "code",
      "metadata": {
        "colab": {
          "base_uri": "https://localhost:8080/",
          "height": 208
        },
        "id": "vARbb4vFRcp5",
        "outputId": "a155f9fd-42ea-446f-94c3-16c44ad547f5"
      },
      "source": [
        "a [1,2,3,4,5]\n",
        "#?? a.reverse()\n",
        "print(a)"
      ],
      "execution_count": 40,
      "outputs": [
        {
          "output_type": "error",
          "ename": "TypeError",
          "evalue": "ignored",
          "traceback": [
            "\u001b[0;31m---------------------------------------------------------------------------\u001b[0m",
            "\u001b[0;31mTypeError\u001b[0m                                 Traceback (most recent call last)",
            "\u001b[0;32m<ipython-input-40-771ee3f3f366>\u001b[0m in \u001b[0;36m<module>\u001b[0;34m()\u001b[0m\n\u001b[0;32m----> 1\u001b[0;31m \u001b[0ma\u001b[0m \u001b[0;34m[\u001b[0m\u001b[0;36m1\u001b[0m\u001b[0;34m,\u001b[0m\u001b[0;36m2\u001b[0m\u001b[0;34m,\u001b[0m\u001b[0;36m3\u001b[0m\u001b[0;34m,\u001b[0m\u001b[0;36m4\u001b[0m\u001b[0;34m,\u001b[0m\u001b[0;36m5\u001b[0m\u001b[0;34m]\u001b[0m\u001b[0;34m\u001b[0m\u001b[0;34m\u001b[0m\u001b[0m\n\u001b[0m\u001b[1;32m      2\u001b[0m \u001b[0;31m#?? a.reverse()\u001b[0m\u001b[0;34m\u001b[0m\u001b[0;34m\u001b[0m\u001b[0;34m\u001b[0m\u001b[0m\n\u001b[1;32m      3\u001b[0m \u001b[0mprint\u001b[0m\u001b[0;34m(\u001b[0m\u001b[0ma\u001b[0m\u001b[0;34m)\u001b[0m\u001b[0;34m\u001b[0m\u001b[0;34m\u001b[0m\u001b[0m\n",
            "\u001b[0;31mTypeError\u001b[0m: list indices must be integers or slices, not tuple"
          ]
        }
      ]
    },
    {
      "cell_type": "code",
      "metadata": {
        "colab": {
          "base_uri": "https://localhost:8080/"
        },
        "id": "Nlhzl3xBR2yP",
        "outputId": "702f384b-987c-4799-9550-21d4945f7162"
      },
      "source": [
        "a = [1,2,3,4]\n",
        "a.insert(2,11)\n",
        "print(a)\n",
        "\n"
      ],
      "execution_count": 42,
      "outputs": [
        {
          "output_type": "stream",
          "text": [
            "[1, 2, 11, 3, 4]\n"
          ],
          "name": "stdout"
        }
      ]
    },
    {
      "cell_type": "code",
      "metadata": {
        "colab": {
          "base_uri": "https://localhost:8080/"
        },
        "id": "vFuQAADCSJ9g",
        "outputId": "2d16f207-16e3-46f2-8531-a506b197dfcb"
      },
      "source": [
        "a = { 'a': 1, 'b' :2, 3 : 'abc'} #딕셔너리 자료형. key에는 변하지 않는 값, value에는 변동가능/변동 불가능 값 모두 적는다.\n",
        "print(a['a'])  # 굳이 순서가 없다\n",
        "print(a[3]) # key를 불러야 값이 호출 된다."
      ],
      "execution_count": 49,
      "outputs": [
        {
          "output_type": "stream",
          "text": [
            "1\n",
            "abc\n"
          ],
          "name": "stdout"
        }
      ]
    },
    {
      "cell_type": "code",
      "metadata": {
        "id": "P3MwApjCTJ06"
      },
      "source": [
        "#set 자료형은 집합이다. ???"
      ],
      "execution_count": 50,
      "outputs": []
    },
    {
      "cell_type": "code",
      "metadata": {
        "colab": {
          "base_uri": "https://localhost:8080/"
        },
        "id": "nUKZYNOITOll",
        "outputId": "51d2e7bf-b4cb-4593-b971-b81ae869abfb"
      },
      "source": [
        "for i in range(0,5): # 0부터 4까지  반복한다.\n",
        "  print(math.pow(i,i)) "
      ],
      "execution_count": 52,
      "outputs": [
        {
          "output_type": "stream",
          "text": [
            "1.0\n",
            "1.0\n",
            "4.0\n",
            "27.0\n",
            "256.0\n"
          ],
          "name": "stdout"
        }
      ]
    },
    {
      "cell_type": "code",
      "metadata": {
        "id": "0gr4pHUrUKpY"
      },
      "source": [
        "# if+or, elif+or, else: 사용한다"
      ],
      "execution_count": null,
      "outputs": []
    },
    {
      "cell_type": "code",
      "metadata": {
        "id": "xgTLZzL3UYCS"
      },
      "source": [
        ""
      ],
      "execution_count": null,
      "outputs": []
    }
  ]
}